{
 "cells": [
  {
   "cell_type": "code",
   "execution_count": 6,
   "metadata": {},
   "outputs": [
    {
     "name": "stdout",
     "output_type": "stream",
     "text": [
      "hello world\n",
      "the sum is  7\n"
     ]
    }
   ],
   "source": [
    "class piano:\n",
    "    def __init__(self):\n",
    "        print(\"hello world\")\n",
    "        self.leter = 0\n",
    "        self.uts = 0\n",
    "        self.res = 0 \n",
    "        \n",
    "        \n",
    "    def enterInput(self):\n",
    "        \n",
    "        self.leter  = input(\"first number \")\n",
    "        self.uts = input(\"second number\")\n",
    "        x = int(self.leter)\n",
    "        y = int(self.uts)\n",
    "        z = x + y \n",
    "        self.res = str(z)\n",
    "        \n",
    "        \n",
    "       \n",
    "        \n",
    "    def print(self):\n",
    "       \n",
    "        print(\"the sum is \",self.res)\n",
    "        \n",
    "p = piano()\n",
    "\n",
    "p.enterInput()\n",
    "p.print()"
   ]
  },
  {
   "cell_type": "code",
   "execution_count": null,
   "metadata": {},
   "outputs": [],
   "source": []
  }
 ],
 "metadata": {
  "kernelspec": {
   "display_name": "Python 3",
   "language": "python",
   "name": "python3"
  },
  "language_info": {
   "codemirror_mode": {
    "name": "ipython",
    "version": 3
   },
   "file_extension": ".py",
   "mimetype": "text/x-python",
   "name": "python",
   "nbconvert_exporter": "python",
   "pygments_lexer": "ipython3",
   "version": "3.6.5"
  }
 },
 "nbformat": 4,
 "nbformat_minor": 2
}
