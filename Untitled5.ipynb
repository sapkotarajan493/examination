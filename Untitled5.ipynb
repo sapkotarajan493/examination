{
 "cells": [
  {
   "cell_type": "code",
   "execution_count": 12,
   "metadata": {},
   "outputs": [
    {
     "name": "stdout",
     "output_type": "stream",
     "text": [
      "f 30\n",
      "b 14\n",
      "e 12\n",
      "c 10\n",
      "d 9\n",
      "a 1\n"
     ]
    }
   ],
   "source": [
    "input = {'a':1, 'b':14, 'c':10, 'd':9, 'e':12, 'f':30}\n",
    "temp = {}\n",
    "help = {}\n",
    "for i in input:\n",
    "    temp[input[i]]=i\n",
    "a = sorted(temp)\n",
    "b = a[::-1]\n",
    "for j in b:\n",
    "    help[temp[j]]= j\n",
    "\n",
    "for c in help:\n",
    "    print(c, help[c])"
   ]
  },
  {
   "cell_type": "code",
   "execution_count": null,
   "metadata": {},
   "outputs": [],
   "source": []
  }
 ],
 "metadata": {
  "kernelspec": {
   "display_name": "Python 3",
   "language": "python",
   "name": "python3"
  },
  "language_info": {
   "codemirror_mode": {
    "name": "ipython",
    "version": 3
   },
   "file_extension": ".py",
   "mimetype": "text/x-python",
   "name": "python",
   "nbconvert_exporter": "python",
   "pygments_lexer": "ipython3",
   "version": "3.6.5"
  }
 },
 "nbformat": 4,
 "nbformat_minor": 2
}
